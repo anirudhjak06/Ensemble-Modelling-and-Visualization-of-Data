{
 "cells": [
  {
   "cell_type": "markdown",
   "metadata": {},
   "source": [
    "# Imports"
   ]
  },
  {
   "cell_type": "code",
   "execution_count": 106,
   "metadata": {},
   "outputs": [],
   "source": [
    "import pandas as pd\n",
    "import numpy as np\n",
    "import seaborn as sns\n",
    "import matplotlib.pyplot as plt\n",
    "%matplotlib inline"
   ]
  },
  {
   "cell_type": "markdown",
   "metadata": {},
   "source": [
    "# Reading the DataFrame"
   ]
  },
  {
   "cell_type": "code",
   "execution_count": 107,
   "metadata": {},
   "outputs": [],
   "source": [
    "df=pd.read_csv(\"tmdb-movies.csv\")"
   ]
  },
  {
   "cell_type": "code",
   "execution_count": 108,
   "metadata": {
    "scrolled": true
   },
   "outputs": [
    {
     "data": {
      "text/html": [
       "<div>\n",
       "<style scoped>\n",
       "    .dataframe tbody tr th:only-of-type {\n",
       "        vertical-align: middle;\n",
       "    }\n",
       "\n",
       "    .dataframe tbody tr th {\n",
       "        vertical-align: top;\n",
       "    }\n",
       "\n",
       "    .dataframe thead th {\n",
       "        text-align: right;\n",
       "    }\n",
       "</style>\n",
       "<table border=\"1\" class=\"dataframe\">\n",
       "  <thead>\n",
       "    <tr style=\"text-align: right;\">\n",
       "      <th></th>\n",
       "      <th>id</th>\n",
       "      <th>imdb_id</th>\n",
       "      <th>popularity</th>\n",
       "      <th>budget</th>\n",
       "      <th>revenue</th>\n",
       "      <th>original_title</th>\n",
       "      <th>cast</th>\n",
       "      <th>homepage</th>\n",
       "      <th>director</th>\n",
       "      <th>tagline</th>\n",
       "      <th>...</th>\n",
       "      <th>overview</th>\n",
       "      <th>runtime</th>\n",
       "      <th>genres</th>\n",
       "      <th>production_companies</th>\n",
       "      <th>release_date</th>\n",
       "      <th>vote_count</th>\n",
       "      <th>vote_average</th>\n",
       "      <th>release_year</th>\n",
       "      <th>budget_adj</th>\n",
       "      <th>revenue_adj</th>\n",
       "    </tr>\n",
       "  </thead>\n",
       "  <tbody>\n",
       "    <tr>\n",
       "      <td>0</td>\n",
       "      <td>135397</td>\n",
       "      <td>tt0369610</td>\n",
       "      <td>32.985763</td>\n",
       "      <td>150000000</td>\n",
       "      <td>1513528810</td>\n",
       "      <td>Jurassic World</td>\n",
       "      <td>Chris Pratt|Bryce Dallas Howard|Irrfan Khan|Vi...</td>\n",
       "      <td>http://www.jurassicworld.com/</td>\n",
       "      <td>Colin Trevorrow</td>\n",
       "      <td>The park is open.</td>\n",
       "      <td>...</td>\n",
       "      <td>Twenty-two years after the events of Jurassic ...</td>\n",
       "      <td>124</td>\n",
       "      <td>Action|Adventure|Science Fiction|Thriller</td>\n",
       "      <td>Universal Studios|Amblin Entertainment|Legenda...</td>\n",
       "      <td>6/9/15</td>\n",
       "      <td>5562</td>\n",
       "      <td>6.5</td>\n",
       "      <td>2015</td>\n",
       "      <td>1.379999e+08</td>\n",
       "      <td>1.392446e+09</td>\n",
       "    </tr>\n",
       "    <tr>\n",
       "      <td>1</td>\n",
       "      <td>76341</td>\n",
       "      <td>tt1392190</td>\n",
       "      <td>28.419936</td>\n",
       "      <td>150000000</td>\n",
       "      <td>378436354</td>\n",
       "      <td>Mad Max: Fury Road</td>\n",
       "      <td>Tom Hardy|Charlize Theron|Hugh Keays-Byrne|Nic...</td>\n",
       "      <td>http://www.madmaxmovie.com/</td>\n",
       "      <td>George Miller</td>\n",
       "      <td>What a Lovely Day.</td>\n",
       "      <td>...</td>\n",
       "      <td>An apocalyptic story set in the furthest reach...</td>\n",
       "      <td>120</td>\n",
       "      <td>Action|Adventure|Science Fiction|Thriller</td>\n",
       "      <td>Village Roadshow Pictures|Kennedy Miller Produ...</td>\n",
       "      <td>5/13/15</td>\n",
       "      <td>6185</td>\n",
       "      <td>7.1</td>\n",
       "      <td>2015</td>\n",
       "      <td>1.379999e+08</td>\n",
       "      <td>3.481613e+08</td>\n",
       "    </tr>\n",
       "    <tr>\n",
       "      <td>2</td>\n",
       "      <td>262500</td>\n",
       "      <td>tt2908446</td>\n",
       "      <td>13.112507</td>\n",
       "      <td>110000000</td>\n",
       "      <td>295238201</td>\n",
       "      <td>Insurgent</td>\n",
       "      <td>Shailene Woodley|Theo James|Kate Winslet|Ansel...</td>\n",
       "      <td>http://www.thedivergentseries.movie/#insurgent</td>\n",
       "      <td>Robert Schwentke</td>\n",
       "      <td>One Choice Can Destroy You</td>\n",
       "      <td>...</td>\n",
       "      <td>Beatrice Prior must confront her inner demons ...</td>\n",
       "      <td>119</td>\n",
       "      <td>Adventure|Science Fiction|Thriller</td>\n",
       "      <td>Summit Entertainment|Mandeville Films|Red Wago...</td>\n",
       "      <td>3/18/15</td>\n",
       "      <td>2480</td>\n",
       "      <td>6.3</td>\n",
       "      <td>2015</td>\n",
       "      <td>1.012000e+08</td>\n",
       "      <td>2.716190e+08</td>\n",
       "    </tr>\n",
       "    <tr>\n",
       "      <td>3</td>\n",
       "      <td>140607</td>\n",
       "      <td>tt2488496</td>\n",
       "      <td>11.173104</td>\n",
       "      <td>200000000</td>\n",
       "      <td>2068178225</td>\n",
       "      <td>Star Wars: The Force Awakens</td>\n",
       "      <td>Harrison Ford|Mark Hamill|Carrie Fisher|Adam D...</td>\n",
       "      <td>http://www.starwars.com/films/star-wars-episod...</td>\n",
       "      <td>J.J. Abrams</td>\n",
       "      <td>Every generation has a story.</td>\n",
       "      <td>...</td>\n",
       "      <td>Thirty years after defeating the Galactic Empi...</td>\n",
       "      <td>136</td>\n",
       "      <td>Action|Adventure|Science Fiction|Fantasy</td>\n",
       "      <td>Lucasfilm|Truenorth Productions|Bad Robot</td>\n",
       "      <td>12/15/15</td>\n",
       "      <td>5292</td>\n",
       "      <td>7.5</td>\n",
       "      <td>2015</td>\n",
       "      <td>1.839999e+08</td>\n",
       "      <td>1.902723e+09</td>\n",
       "    </tr>\n",
       "    <tr>\n",
       "      <td>4</td>\n",
       "      <td>168259</td>\n",
       "      <td>tt2820852</td>\n",
       "      <td>9.335014</td>\n",
       "      <td>190000000</td>\n",
       "      <td>1506249360</td>\n",
       "      <td>Furious 7</td>\n",
       "      <td>Vin Diesel|Paul Walker|Jason Statham|Michelle ...</td>\n",
       "      <td>http://www.furious7.com/</td>\n",
       "      <td>James Wan</td>\n",
       "      <td>Vengeance Hits Home</td>\n",
       "      <td>...</td>\n",
       "      <td>Deckard Shaw seeks revenge against Dominic Tor...</td>\n",
       "      <td>137</td>\n",
       "      <td>Action|Crime|Thriller</td>\n",
       "      <td>Universal Pictures|Original Film|Media Rights ...</td>\n",
       "      <td>4/1/15</td>\n",
       "      <td>2947</td>\n",
       "      <td>7.3</td>\n",
       "      <td>2015</td>\n",
       "      <td>1.747999e+08</td>\n",
       "      <td>1.385749e+09</td>\n",
       "    </tr>\n",
       "  </tbody>\n",
       "</table>\n",
       "<p>5 rows × 21 columns</p>\n",
       "</div>"
      ],
      "text/plain": [
       "       id    imdb_id  popularity     budget     revenue  \\\n",
       "0  135397  tt0369610   32.985763  150000000  1513528810   \n",
       "1   76341  tt1392190   28.419936  150000000   378436354   \n",
       "2  262500  tt2908446   13.112507  110000000   295238201   \n",
       "3  140607  tt2488496   11.173104  200000000  2068178225   \n",
       "4  168259  tt2820852    9.335014  190000000  1506249360   \n",
       "\n",
       "                 original_title  \\\n",
       "0                Jurassic World   \n",
       "1            Mad Max: Fury Road   \n",
       "2                     Insurgent   \n",
       "3  Star Wars: The Force Awakens   \n",
       "4                     Furious 7   \n",
       "\n",
       "                                                cast  \\\n",
       "0  Chris Pratt|Bryce Dallas Howard|Irrfan Khan|Vi...   \n",
       "1  Tom Hardy|Charlize Theron|Hugh Keays-Byrne|Nic...   \n",
       "2  Shailene Woodley|Theo James|Kate Winslet|Ansel...   \n",
       "3  Harrison Ford|Mark Hamill|Carrie Fisher|Adam D...   \n",
       "4  Vin Diesel|Paul Walker|Jason Statham|Michelle ...   \n",
       "\n",
       "                                            homepage          director  \\\n",
       "0                      http://www.jurassicworld.com/   Colin Trevorrow   \n",
       "1                        http://www.madmaxmovie.com/     George Miller   \n",
       "2     http://www.thedivergentseries.movie/#insurgent  Robert Schwentke   \n",
       "3  http://www.starwars.com/films/star-wars-episod...       J.J. Abrams   \n",
       "4                           http://www.furious7.com/         James Wan   \n",
       "\n",
       "                         tagline  ...  \\\n",
       "0              The park is open.  ...   \n",
       "1             What a Lovely Day.  ...   \n",
       "2     One Choice Can Destroy You  ...   \n",
       "3  Every generation has a story.  ...   \n",
       "4            Vengeance Hits Home  ...   \n",
       "\n",
       "                                            overview runtime  \\\n",
       "0  Twenty-two years after the events of Jurassic ...     124   \n",
       "1  An apocalyptic story set in the furthest reach...     120   \n",
       "2  Beatrice Prior must confront her inner demons ...     119   \n",
       "3  Thirty years after defeating the Galactic Empi...     136   \n",
       "4  Deckard Shaw seeks revenge against Dominic Tor...     137   \n",
       "\n",
       "                                      genres  \\\n",
       "0  Action|Adventure|Science Fiction|Thriller   \n",
       "1  Action|Adventure|Science Fiction|Thriller   \n",
       "2         Adventure|Science Fiction|Thriller   \n",
       "3   Action|Adventure|Science Fiction|Fantasy   \n",
       "4                      Action|Crime|Thriller   \n",
       "\n",
       "                                production_companies release_date vote_count  \\\n",
       "0  Universal Studios|Amblin Entertainment|Legenda...       6/9/15       5562   \n",
       "1  Village Roadshow Pictures|Kennedy Miller Produ...      5/13/15       6185   \n",
       "2  Summit Entertainment|Mandeville Films|Red Wago...      3/18/15       2480   \n",
       "3          Lucasfilm|Truenorth Productions|Bad Robot     12/15/15       5292   \n",
       "4  Universal Pictures|Original Film|Media Rights ...       4/1/15       2947   \n",
       "\n",
       "   vote_average  release_year    budget_adj   revenue_adj  \n",
       "0           6.5          2015  1.379999e+08  1.392446e+09  \n",
       "1           7.1          2015  1.379999e+08  3.481613e+08  \n",
       "2           6.3          2015  1.012000e+08  2.716190e+08  \n",
       "3           7.5          2015  1.839999e+08  1.902723e+09  \n",
       "4           7.3          2015  1.747999e+08  1.385749e+09  \n",
       "\n",
       "[5 rows x 21 columns]"
      ]
     },
     "execution_count": 108,
     "metadata": {},
     "output_type": "execute_result"
    }
   ],
   "source": [
    "df.head()"
   ]
  },
  {
   "cell_type": "markdown",
   "metadata": {},
   "source": [
    "## Description and data types of Data"
   ]
  },
  {
   "cell_type": "code",
   "execution_count": 109,
   "metadata": {},
   "outputs": [
    {
     "data": {
      "text/html": [
       "<div>\n",
       "<style scoped>\n",
       "    .dataframe tbody tr th:only-of-type {\n",
       "        vertical-align: middle;\n",
       "    }\n",
       "\n",
       "    .dataframe tbody tr th {\n",
       "        vertical-align: top;\n",
       "    }\n",
       "\n",
       "    .dataframe thead th {\n",
       "        text-align: right;\n",
       "    }\n",
       "</style>\n",
       "<table border=\"1\" class=\"dataframe\">\n",
       "  <thead>\n",
       "    <tr style=\"text-align: right;\">\n",
       "      <th></th>\n",
       "      <th>id</th>\n",
       "      <th>popularity</th>\n",
       "      <th>budget</th>\n",
       "      <th>revenue</th>\n",
       "      <th>runtime</th>\n",
       "      <th>vote_count</th>\n",
       "      <th>vote_average</th>\n",
       "      <th>release_year</th>\n",
       "      <th>budget_adj</th>\n",
       "      <th>revenue_adj</th>\n",
       "    </tr>\n",
       "  </thead>\n",
       "  <tbody>\n",
       "    <tr>\n",
       "      <td>count</td>\n",
       "      <td>10866.000000</td>\n",
       "      <td>10866.000000</td>\n",
       "      <td>1.086600e+04</td>\n",
       "      <td>1.086600e+04</td>\n",
       "      <td>10866.000000</td>\n",
       "      <td>10866.000000</td>\n",
       "      <td>10866.000000</td>\n",
       "      <td>10866.000000</td>\n",
       "      <td>1.086600e+04</td>\n",
       "      <td>1.086600e+04</td>\n",
       "    </tr>\n",
       "    <tr>\n",
       "      <td>mean</td>\n",
       "      <td>66064.177434</td>\n",
       "      <td>0.646441</td>\n",
       "      <td>1.462570e+07</td>\n",
       "      <td>3.982332e+07</td>\n",
       "      <td>102.070863</td>\n",
       "      <td>217.389748</td>\n",
       "      <td>5.974922</td>\n",
       "      <td>2001.322658</td>\n",
       "      <td>1.755104e+07</td>\n",
       "      <td>5.136436e+07</td>\n",
       "    </tr>\n",
       "    <tr>\n",
       "      <td>std</td>\n",
       "      <td>92130.136561</td>\n",
       "      <td>1.000185</td>\n",
       "      <td>3.091321e+07</td>\n",
       "      <td>1.170035e+08</td>\n",
       "      <td>31.381405</td>\n",
       "      <td>575.619058</td>\n",
       "      <td>0.935142</td>\n",
       "      <td>12.812941</td>\n",
       "      <td>3.430616e+07</td>\n",
       "      <td>1.446325e+08</td>\n",
       "    </tr>\n",
       "    <tr>\n",
       "      <td>min</td>\n",
       "      <td>5.000000</td>\n",
       "      <td>0.000065</td>\n",
       "      <td>0.000000e+00</td>\n",
       "      <td>0.000000e+00</td>\n",
       "      <td>0.000000</td>\n",
       "      <td>10.000000</td>\n",
       "      <td>1.500000</td>\n",
       "      <td>1960.000000</td>\n",
       "      <td>0.000000e+00</td>\n",
       "      <td>0.000000e+00</td>\n",
       "    </tr>\n",
       "    <tr>\n",
       "      <td>25%</td>\n",
       "      <td>10596.250000</td>\n",
       "      <td>0.207583</td>\n",
       "      <td>0.000000e+00</td>\n",
       "      <td>0.000000e+00</td>\n",
       "      <td>90.000000</td>\n",
       "      <td>17.000000</td>\n",
       "      <td>5.400000</td>\n",
       "      <td>1995.000000</td>\n",
       "      <td>0.000000e+00</td>\n",
       "      <td>0.000000e+00</td>\n",
       "    </tr>\n",
       "    <tr>\n",
       "      <td>50%</td>\n",
       "      <td>20669.000000</td>\n",
       "      <td>0.383856</td>\n",
       "      <td>0.000000e+00</td>\n",
       "      <td>0.000000e+00</td>\n",
       "      <td>99.000000</td>\n",
       "      <td>38.000000</td>\n",
       "      <td>6.000000</td>\n",
       "      <td>2006.000000</td>\n",
       "      <td>0.000000e+00</td>\n",
       "      <td>0.000000e+00</td>\n",
       "    </tr>\n",
       "    <tr>\n",
       "      <td>75%</td>\n",
       "      <td>75610.000000</td>\n",
       "      <td>0.713817</td>\n",
       "      <td>1.500000e+07</td>\n",
       "      <td>2.400000e+07</td>\n",
       "      <td>111.000000</td>\n",
       "      <td>145.750000</td>\n",
       "      <td>6.600000</td>\n",
       "      <td>2011.000000</td>\n",
       "      <td>2.085325e+07</td>\n",
       "      <td>3.369710e+07</td>\n",
       "    </tr>\n",
       "    <tr>\n",
       "      <td>max</td>\n",
       "      <td>417859.000000</td>\n",
       "      <td>32.985763</td>\n",
       "      <td>4.250000e+08</td>\n",
       "      <td>2.781506e+09</td>\n",
       "      <td>900.000000</td>\n",
       "      <td>9767.000000</td>\n",
       "      <td>9.200000</td>\n",
       "      <td>2015.000000</td>\n",
       "      <td>4.250000e+08</td>\n",
       "      <td>2.827124e+09</td>\n",
       "    </tr>\n",
       "  </tbody>\n",
       "</table>\n",
       "</div>"
      ],
      "text/plain": [
       "                  id    popularity        budget       revenue       runtime  \\\n",
       "count   10866.000000  10866.000000  1.086600e+04  1.086600e+04  10866.000000   \n",
       "mean    66064.177434      0.646441  1.462570e+07  3.982332e+07    102.070863   \n",
       "std     92130.136561      1.000185  3.091321e+07  1.170035e+08     31.381405   \n",
       "min         5.000000      0.000065  0.000000e+00  0.000000e+00      0.000000   \n",
       "25%     10596.250000      0.207583  0.000000e+00  0.000000e+00     90.000000   \n",
       "50%     20669.000000      0.383856  0.000000e+00  0.000000e+00     99.000000   \n",
       "75%     75610.000000      0.713817  1.500000e+07  2.400000e+07    111.000000   \n",
       "max    417859.000000     32.985763  4.250000e+08  2.781506e+09    900.000000   \n",
       "\n",
       "         vote_count  vote_average  release_year    budget_adj   revenue_adj  \n",
       "count  10866.000000  10866.000000  10866.000000  1.086600e+04  1.086600e+04  \n",
       "mean     217.389748      5.974922   2001.322658  1.755104e+07  5.136436e+07  \n",
       "std      575.619058      0.935142     12.812941  3.430616e+07  1.446325e+08  \n",
       "min       10.000000      1.500000   1960.000000  0.000000e+00  0.000000e+00  \n",
       "25%       17.000000      5.400000   1995.000000  0.000000e+00  0.000000e+00  \n",
       "50%       38.000000      6.000000   2006.000000  0.000000e+00  0.000000e+00  \n",
       "75%      145.750000      6.600000   2011.000000  2.085325e+07  3.369710e+07  \n",
       "max     9767.000000      9.200000   2015.000000  4.250000e+08  2.827124e+09  "
      ]
     },
     "execution_count": 109,
     "metadata": {},
     "output_type": "execute_result"
    }
   ],
   "source": [
    "df.describe()"
   ]
  },
  {
   "cell_type": "code",
   "execution_count": 110,
   "metadata": {},
   "outputs": [
    {
     "data": {
      "text/plain": [
       "id                        int64\n",
       "imdb_id                  object\n",
       "popularity              float64\n",
       "budget                    int64\n",
       "revenue                   int64\n",
       "original_title           object\n",
       "cast                     object\n",
       "homepage                 object\n",
       "director                 object\n",
       "tagline                  object\n",
       "keywords                 object\n",
       "overview                 object\n",
       "runtime                   int64\n",
       "genres                   object\n",
       "production_companies     object\n",
       "release_date             object\n",
       "vote_count                int64\n",
       "vote_average            float64\n",
       "release_year              int64\n",
       "budget_adj              float64\n",
       "revenue_adj             float64\n",
       "dtype: object"
      ]
     },
     "execution_count": 110,
     "metadata": {},
     "output_type": "execute_result"
    }
   ],
   "source": [
    "#First,let us analyse the data types of each column\n",
    "df.dtypes"
   ]
  },
  {
   "cell_type": "code",
   "execution_count": 111,
   "metadata": {},
   "outputs": [
    {
     "data": {
      "text/plain": [
       "(10866, 21)"
      ]
     },
     "execution_count": 111,
     "metadata": {},
     "output_type": "execute_result"
    }
   ],
   "source": [
    "df.shape"
   ]
  },
  {
   "cell_type": "code",
   "execution_count": 112,
   "metadata": {},
   "outputs": [
    {
     "data": {
      "text/plain": [
       "Index(['id', 'imdb_id', 'popularity', 'budget', 'revenue', 'original_title',\n",
       "       'cast', 'homepage', 'director', 'tagline', 'keywords', 'overview',\n",
       "       'runtime', 'genres', 'production_companies', 'release_date',\n",
       "       'vote_count', 'vote_average', 'release_year', 'budget_adj',\n",
       "       'revenue_adj'],\n",
       "      dtype='object')"
      ]
     },
     "execution_count": 112,
     "metadata": {},
     "output_type": "execute_result"
    }
   ],
   "source": [
    "df.columns"
   ]
  },
  {
   "cell_type": "code",
   "execution_count": 113,
   "metadata": {},
   "outputs": [
    {
     "name": "stdout",
     "output_type": "stream",
     "text": [
      "<class 'pandas.core.frame.DataFrame'>\n",
      "RangeIndex: 10866 entries, 0 to 10865\n",
      "Data columns (total 21 columns):\n",
      "id                      10866 non-null int64\n",
      "imdb_id                 10856 non-null object\n",
      "popularity              10866 non-null float64\n",
      "budget                  10866 non-null int64\n",
      "revenue                 10866 non-null int64\n",
      "original_title          10866 non-null object\n",
      "cast                    10790 non-null object\n",
      "homepage                2936 non-null object\n",
      "director                10822 non-null object\n",
      "tagline                 8042 non-null object\n",
      "keywords                9373 non-null object\n",
      "overview                10862 non-null object\n",
      "runtime                 10866 non-null int64\n",
      "genres                  10843 non-null object\n",
      "production_companies    9836 non-null object\n",
      "release_date            10866 non-null object\n",
      "vote_count              10866 non-null int64\n",
      "vote_average            10866 non-null float64\n",
      "release_year            10866 non-null int64\n",
      "budget_adj              10866 non-null float64\n",
      "revenue_adj             10866 non-null float64\n",
      "dtypes: float64(4), int64(6), object(11)\n",
      "memory usage: 1.7+ MB\n"
     ]
    }
   ],
   "source": [
    "df.info()"
   ]
  },
  {
   "cell_type": "markdown",
   "metadata": {},
   "source": [
    "## Analysing the data"
   ]
  },
  {
   "cell_type": "code",
   "execution_count": 114,
   "metadata": {},
   "outputs": [],
   "source": [
    "#As we can see that there is a lot of missing data in the dataset.\n",
    "#Lets analyse these using some plots"
   ]
  },
  {
   "cell_type": "code",
   "execution_count": 115,
   "metadata": {},
   "outputs": [
    {
     "data": {
      "text/plain": [
       "<matplotlib.axes._subplots.AxesSubplot at 0x298d19e3248>"
      ]
     },
     "execution_count": 115,
     "metadata": {},
     "output_type": "execute_result"
    },
    {
     "data": {
      "image/png": "[encoded data removed]",
      "text/plain": [
       "<Figure size 432x288 with 2 Axes>"
      ]
     },
     "metadata": {
      "needs_background": "light"
     },
     "output_type": "display_data"
    }
   ],
   "source": [
    "# Method -1 --HEATMAP--\n",
    "\n",
    "cols = df.columns[:30] # first 30 columns\n",
    "colours = ['#000099', '#ffff00'] # specify the colours - yellow is missing. blue is not missing.\n",
    "sns.heatmap(df[cols].isnull(), cmap=sns.color_palette(colours))"
   ]
  },
  {
   "cell_type": "code",
   "execution_count": 116,
   "metadata": {},
   "outputs": [
    {
     "name": "stdout",
     "output_type": "stream",
     "text": [
      "id\n",
      "False    10866\n",
      "Name: id, dtype: int64\n",
      "\n",
      "imdb_id\n",
      "False    10856\n",
      "True        10\n",
      "Name: imdb_id, dtype: int64\n",
      "\n",
      "popularity\n",
      "False    10866\n",
      "Name: popularity, dtype: int64\n",
      "\n",
      "budget\n",
      "False    10866\n",
      "Name: budget, dtype: int64\n",
      "\n",
      "revenue\n",
      "False    10866\n",
      "Name: revenue, dtype: int64\n",
      "\n",
      "original_title\n",
      "False    10866\n",
      "Name: original_title, dtype: int64\n",
      "\n",
      "cast\n",
      "False    10790\n",
      "True        76\n",
      "Name: cast, dtype: int64\n",
      "\n",
      "homepage\n",
      "True     7930\n",
      "False    2936\n",
      "Name: homepage, dtype: int64\n",
      "\n",
      "director\n",
      "False    10822\n",
      "True        44\n",
      "Name: director, dtype: int64\n",
      "\n",
      "tagline\n",
      "False    8042\n",
      "True     2824\n",
      "Name: tagline, dtype: int64\n",
      "\n",
      "keywords\n",
      "False    9373\n",
      "True     1493\n",
      "Name: keywords, dtype: int64\n",
      "\n",
      "overview\n",
      "False    10862\n",
      "True         4\n",
      "Name: overview, dtype: int64\n",
      "\n",
      "runtime\n",
      "False    10866\n",
      "Name: runtime, dtype: int64\n",
      "\n",
      "genres\n",
      "False    10843\n",
      "True        23\n",
      "Name: genres, dtype: int64\n",
      "\n",
      "production_companies\n",
      "False    9836\n",
      "True     1030\n",
      "Name: production_companies, dtype: int64\n",
      "\n",
      "release_date\n",
      "False    10866\n",
      "Name: release_date, dtype: int64\n",
      "\n",
      "vote_count\n",
      "False    10866\n",
      "Name: vote_count, dtype: int64\n",
      "\n",
      "vote_average\n",
      "False    10866\n",
      "Name: vote_average, dtype: int64\n",
      "\n",
      "release_year\n",
      "False    10866\n",
      "Name: release_year, dtype: int64\n",
      "\n",
      "budget_adj\n",
      "False    10866\n",
      "Name: budget_adj, dtype: int64\n",
      "\n",
      "revenue_adj\n",
      "False    10866\n",
      "Name: revenue_adj, dtype: int64\n",
      "\n"
     ]
    }
   ],
   "source": [
    "#Method-2 --A SIMPLE FOR LOOP--\n",
    "\n",
    "missing_data=df.isnull()\n",
    "missing_data.head(10)\n",
    "#Here \"True\" stands for missing value \n",
    "#where \"False\" stands for not missing value\n",
    "#Counting missing values in each column\n",
    "for col in missing_data.columns.values.tolist():\n",
    "    print(col)\n",
    "    print(missing_data[col].value_counts())\n",
    "    print(\"\")"
   ]
  },
  {
   "cell_type": "markdown",
   "metadata": {},
   "source": [
    "# Cleaning the data"
   ]
  },
  {
   "cell_type": "code",
   "execution_count": 117,
   "metadata": {},
   "outputs": [],
   "source": [
    "#Now as we saw the missing data, we can now clean the data\n",
    "#One way is to drop all the null values\n",
    "df=df.dropna()"
   ]
  },
  {
   "cell_type": "code",
   "execution_count": 118,
   "metadata": {},
   "outputs": [
    {
     "name": "stdout",
     "output_type": "stream",
     "text": [
      "id\n",
      "False    1992\n",
      "Name: id, dtype: int64\n",
      "\n",
      "imdb_id\n",
      "False    1992\n",
      "Name: imdb_id, dtype: int64\n",
      "\n",
      "popularity\n",
      "False    1992\n",
      "Name: popularity, dtype: int64\n",
      "\n",
      "budget\n",
      "False    1992\n",
      "Name: budget, dtype: int64\n",
      "\n",
      "revenue\n",
      "False    1992\n",
      "Name: revenue, dtype: int64\n",
      "\n",
      "original_title\n",
      "False    1992\n",
      "Name: original_title, dtype: int64\n",
      "\n",
      "cast\n",
      "False    1992\n",
      "Name: cast, dtype: int64\n",
      "\n",
      "homepage\n",
      "False    1992\n",
      "Name: homepage, dtype: int64\n",
      "\n",
      "director\n",
      "False    1992\n",
      "Name: director, dtype: int64\n",
      "\n",
      "tagline\n",
      "False    1992\n",
      "Name: tagline, dtype: int64\n",
      "\n",
      "keywords\n",
      "False    1992\n",
      "Name: keywords, dtype: int64\n",
      "\n",
      "overview\n",
      "False    1992\n",
      "Name: overview, dtype: int64\n",
      "\n",
      "runtime\n",
      "False    1992\n",
      "Name: runtime, dtype: int64\n",
      "\n",
      "genres\n",
      "False    1992\n",
      "Name: genres, dtype: int64\n",
      "\n",
      "production_companies\n",
      "False    1992\n",
      "Name: production_companies, dtype: int64\n",
      "\n",
      "release_date\n",
      "False    1992\n",
      "Name: release_date, dtype: int64\n",
      "\n",
      "vote_count\n",
      "False    1992\n",
      "Name: vote_count, dtype: int64\n",
      "\n",
      "vote_average\n",
      "False    1992\n",
      "Name: vote_average, dtype: int64\n",
      "\n",
      "release_year\n",
      "False    1992\n",
      "Name: release_year, dtype: int64\n",
      "\n",
      "budget_adj\n",
      "False    1992\n",
      "Name: budget_adj, dtype: int64\n",
      "\n",
      "revenue_adj\n",
      "False    1992\n",
      "Name: revenue_adj, dtype: int64\n",
      "\n"
     ]
    }
   ],
   "source": [
    "# Counting missing values in each column\n",
    "missing_data2=df.isnull()\n",
    "missing_data2.head(10)\n",
    "for col in missing_data2.columns.values.tolist():\n",
    "    print(col)\n",
    "    print(missing_data2[col].value_counts())\n",
    "    print(\"\")"
   ]
  },
  {
   "cell_type": "code",
   "execution_count": 119,
   "metadata": {},
   "outputs": [],
   "source": [
    "#There are no missing values now.\n",
    "#Because, There is no TRUE value above in the output.\n",
    "#As,here \"True\" stands for missing value \n",
    "#where \"False\" stands for not missing value"
   ]
  },
  {
   "cell_type": "code",
   "execution_count": 120,
   "metadata": {},
   "outputs": [
    {
     "data": {
      "text/plain": [
       "id                      0\n",
       "imdb_id                 0\n",
       "popularity              0\n",
       "budget                  0\n",
       "revenue                 0\n",
       "original_title          0\n",
       "cast                    0\n",
       "homepage                0\n",
       "director                0\n",
       "tagline                 0\n",
       "keywords                0\n",
       "overview                0\n",
       "runtime                 0\n",
       "genres                  0\n",
       "production_companies    0\n",
       "release_date            0\n",
       "vote_count              0\n",
       "vote_average            0\n",
       "release_year            0\n",
       "budget_adj              0\n",
       "revenue_adj             0\n",
       "dtype: int64"
      ]
     },
     "execution_count": 120,
     "metadata": {},
     "output_type": "execute_result"
    }
   ],
   "source": [
    "#Another way to know that there are no null values is :\n",
    "df.isnull().sum()"
   ]
  },
  {
   "cell_type": "markdown",
   "metadata": {},
   "source": [
    "# Exploratory Data Analysis"
   ]
  },
  {
   "cell_type": "code",
   "execution_count": 121,
   "metadata": {},
   "outputs": [
    {
     "data": {
      "text/html": [
       "<div>\n",
       "<style scoped>\n",
       "    .dataframe tbody tr th:only-of-type {\n",
       "        vertical-align: middle;\n",
       "    }\n",
       "\n",
       "    .dataframe tbody tr th {\n",
       "        vertical-align: top;\n",
       "    }\n",
       "\n",
       "    .dataframe thead th {\n",
       "        text-align: right;\n",
       "    }\n",
       "</style>\n",
       "<table border=\"1\" class=\"dataframe\">\n",
       "  <thead>\n",
       "    <tr style=\"text-align: right;\">\n",
       "      <th></th>\n",
       "      <th>id</th>\n",
       "      <th>popularity</th>\n",
       "      <th>budget</th>\n",
       "      <th>revenue</th>\n",
       "      <th>runtime</th>\n",
       "      <th>vote_count</th>\n",
       "      <th>vote_average</th>\n",
       "      <th>release_year</th>\n",
       "      <th>budget_adj</th>\n",
       "      <th>revenue_adj</th>\n",
       "    </tr>\n",
       "  </thead>\n",
       "  <tbody>\n",
       "    <tr>\n",
       "      <td>count</td>\n",
       "      <td>1992.000000</td>\n",
       "      <td>1992.000000</td>\n",
       "      <td>1.992000e+03</td>\n",
       "      <td>1.992000e+03</td>\n",
       "      <td>1992.000000</td>\n",
       "      <td>1992.000000</td>\n",
       "      <td>1992.000000</td>\n",
       "      <td>1992.000000</td>\n",
       "      <td>1.992000e+03</td>\n",
       "      <td>1.992000e+03</td>\n",
       "    </tr>\n",
       "    <tr>\n",
       "      <td>mean</td>\n",
       "      <td>71652.152108</td>\n",
       "      <td>1.316763</td>\n",
       "      <td>3.454924e+07</td>\n",
       "      <td>1.152153e+08</td>\n",
       "      <td>106.040161</td>\n",
       "      <td>643.616968</td>\n",
       "      <td>6.178614</td>\n",
       "      <td>2007.796687</td>\n",
       "      <td>3.627376e+07</td>\n",
       "      <td>1.302391e+08</td>\n",
       "    </tr>\n",
       "    <tr>\n",
       "      <td>std</td>\n",
       "      <td>92355.883915</td>\n",
       "      <td>1.873563</td>\n",
       "      <td>5.061878e+07</td>\n",
       "      <td>2.202887e+08</td>\n",
       "      <td>29.234592</td>\n",
       "      <td>1092.355998</td>\n",
       "      <td>0.881955</td>\n",
       "      <td>7.549224</td>\n",
       "      <td>5.129783e+07</td>\n",
       "      <td>2.564338e+08</td>\n",
       "    </tr>\n",
       "    <tr>\n",
       "      <td>min</td>\n",
       "      <td>11.000000</td>\n",
       "      <td>0.000620</td>\n",
       "      <td>0.000000e+00</td>\n",
       "      <td>0.000000e+00</td>\n",
       "      <td>0.000000</td>\n",
       "      <td>10.000000</td>\n",
       "      <td>2.100000</td>\n",
       "      <td>1961.000000</td>\n",
       "      <td>0.000000e+00</td>\n",
       "      <td>0.000000e+00</td>\n",
       "    </tr>\n",
       "    <tr>\n",
       "      <td>25%</td>\n",
       "      <td>9699.000000</td>\n",
       "      <td>0.384079</td>\n",
       "      <td>0.000000e+00</td>\n",
       "      <td>0.000000e+00</td>\n",
       "      <td>92.000000</td>\n",
       "      <td>51.000000</td>\n",
       "      <td>5.600000</td>\n",
       "      <td>2006.000000</td>\n",
       "      <td>0.000000e+00</td>\n",
       "      <td>0.000000e+00</td>\n",
       "    </tr>\n",
       "    <tr>\n",
       "      <td>50%</td>\n",
       "      <td>35112.500000</td>\n",
       "      <td>0.774223</td>\n",
       "      <td>1.500000e+07</td>\n",
       "      <td>2.578782e+07</td>\n",
       "      <td>102.000000</td>\n",
       "      <td>210.000000</td>\n",
       "      <td>6.200000</td>\n",
       "      <td>2010.000000</td>\n",
       "      <td>1.524601e+07</td>\n",
       "      <td>2.806370e+07</td>\n",
       "    </tr>\n",
       "    <tr>\n",
       "      <td>75%</td>\n",
       "      <td>83573.000000</td>\n",
       "      <td>1.538639</td>\n",
       "      <td>4.800000e+07</td>\n",
       "      <td>1.278787e+08</td>\n",
       "      <td>116.000000</td>\n",
       "      <td>688.250000</td>\n",
       "      <td>6.800000</td>\n",
       "      <td>2012.000000</td>\n",
       "      <td>5.064450e+07</td>\n",
       "      <td>1.393645e+08</td>\n",
       "    </tr>\n",
       "    <tr>\n",
       "      <td>max</td>\n",
       "      <td>414419.000000</td>\n",
       "      <td>32.985763</td>\n",
       "      <td>4.250000e+08</td>\n",
       "      <td>2.781506e+09</td>\n",
       "      <td>705.000000</td>\n",
       "      <td>9767.000000</td>\n",
       "      <td>8.300000</td>\n",
       "      <td>2015.000000</td>\n",
       "      <td>4.250000e+08</td>\n",
       "      <td>2.827124e+09</td>\n",
       "    </tr>\n",
       "  </tbody>\n",
       "</table>\n",
       "</div>"
      ],
      "text/plain": [
       "                  id   popularity        budget       revenue      runtime  \\\n",
       "count    1992.000000  1992.000000  1.992000e+03  1.992000e+03  1992.000000   \n",
       "mean    71652.152108     1.316763  3.454924e+07  1.152153e+08   106.040161   \n",
       "std     92355.883915     1.873563  5.061878e+07  2.202887e+08    29.234592   \n",
       "min        11.000000     0.000620  0.000000e+00  0.000000e+00     0.000000   \n",
       "25%      9699.000000     0.384079  0.000000e+00  0.000000e+00    92.000000   \n",
       "50%     35112.500000     0.774223  1.500000e+07  2.578782e+07   102.000000   \n",
       "75%     83573.000000     1.538639  4.800000e+07  1.278787e+08   116.000000   \n",
       "max    414419.000000    32.985763  4.250000e+08  2.781506e+09   705.000000   \n",
       "\n",
       "        vote_count  vote_average  release_year    budget_adj   revenue_adj  \n",
       "count  1992.000000   1992.000000   1992.000000  1.992000e+03  1.992000e+03  \n",
       "mean    643.616968      6.178614   2007.796687  3.627376e+07  1.302391e+08  \n",
       "std    1092.355998      0.881955      7.549224  5.129783e+07  2.564338e+08  \n",
       "min      10.000000      2.100000   1961.000000  0.000000e+00  0.000000e+00  \n",
       "25%      51.000000      5.600000   2006.000000  0.000000e+00  0.000000e+00  \n",
       "50%     210.000000      6.200000   2010.000000  1.524601e+07  2.806370e+07  \n",
       "75%     688.250000      6.800000   2012.000000  5.064450e+07  1.393645e+08  \n",
       "max    9767.000000      8.300000   2015.000000  4.250000e+08  2.827124e+09  "
      ]
     },
     "execution_count": 121,
     "metadata": {},
     "output_type": "execute_result"
    }
   ],
   "source": [
    "#Now,lets perform Exploratory Data Analysis (EDA) in Python\n",
    "df.describe()"
   ]
  },
  {
   "cell_type": "code",
   "execution_count": 122,
   "metadata": {},
   "outputs": [
    {
     "data": {
      "text/plain": [
       "array([[<matplotlib.axes._subplots.AxesSubplot object at 0x00000298D31C0688>,\n",
       "        <matplotlib.axes._subplots.AxesSubplot object at 0x00000298D31DC908>,\n",
       "        <matplotlib.axes._subplots.AxesSubplot object at 0x00000298D3215808>],\n",
       "       [<matplotlib.axes._subplots.AxesSubplot object at 0x00000298D324F448>,\n",
       "        <matplotlib.axes._subplots.AxesSubplot object at 0x00000298D32881C8>,\n",
       "        <matplotlib.axes._subplots.AxesSubplot object at 0x00000298D32C0208>],\n",
       "       [<matplotlib.axes._subplots.AxesSubplot object at 0x00000298D36C7288>,\n",
       "        <matplotlib.axes._subplots.AxesSubplot object at 0x00000298D3700388>,\n",
       "        <matplotlib.axes._subplots.AxesSubplot object at 0x00000298D3705F48>],\n",
       "       [<matplotlib.axes._subplots.AxesSubplot object at 0x00000298D3746148>,\n",
       "        <matplotlib.axes._subplots.AxesSubplot object at 0x00000298D37A86C8>,\n",
       "        <matplotlib.axes._subplots.AxesSubplot object at 0x00000298D37E1848>]],\n",
       "      dtype=object)"
      ]
     },
     "execution_count": 122,
     "metadata": {},
     "output_type": "execute_result"
    },
    {
     "data": {
      "image/png": "[encoded data removed]",
      "text/plain": [
       "<Figure size 1152x1440 with 12 Axes>"
      ]
     },
     "metadata": {
      "needs_background": "light"
     },
     "output_type": "display_data"
    }
   ],
   "source": [
    "#We can plot histograms of each column\n",
    "df_num=df.select_dtypes(include=['float64','int64'])\n",
    "df_num.hist(figsize=(16,20),bins=50)"
   ]
  },
  {
   "cell_type": "code",
   "execution_count": 123,
   "metadata": {},
   "outputs": [
    {
     "data": {
      "text/html": [
       "<div>\n",
       "<style scoped>\n",
       "    .dataframe tbody tr th:only-of-type {\n",
       "        vertical-align: middle;\n",
       "    }\n",
       "\n",
       "    .dataframe tbody tr th {\n",
       "        vertical-align: top;\n",
       "    }\n",
       "\n",
       "    .dataframe thead th {\n",
       "        text-align: right;\n",
       "    }\n",
       "</style>\n",
       "<table border=\"1\" class=\"dataframe\">\n",
       "  <thead>\n",
       "    <tr style=\"text-align: right;\">\n",
       "      <th></th>\n",
       "      <th>id</th>\n",
       "      <th>popularity</th>\n",
       "      <th>budget</th>\n",
       "      <th>revenue</th>\n",
       "      <th>runtime</th>\n",
       "      <th>vote_count</th>\n",
       "      <th>vote_average</th>\n",
       "      <th>release_year</th>\n",
       "      <th>budget_adj</th>\n",
       "      <th>revenue_adj</th>\n",
       "    </tr>\n",
       "  </thead>\n",
       "  <tbody>\n",
       "    <tr>\n",
       "      <td>id</td>\n",
       "      <td>1.000000</td>\n",
       "      <td>0.022330</td>\n",
       "      <td>-0.166067</td>\n",
       "      <td>-0.125101</td>\n",
       "      <td>-0.025016</td>\n",
       "      <td>-0.069752</td>\n",
       "      <td>-0.066973</td>\n",
       "      <td>0.507116</td>\n",
       "      <td>-0.208151</td>\n",
       "      <td>-0.165386</td>\n",
       "    </tr>\n",
       "    <tr>\n",
       "      <td>popularity</td>\n",
       "      <td>0.022330</td>\n",
       "      <td>1.000000</td>\n",
       "      <td>0.513553</td>\n",
       "      <td>0.641346</td>\n",
       "      <td>0.220787</td>\n",
       "      <td>0.774226</td>\n",
       "      <td>0.298066</td>\n",
       "      <td>0.002262</td>\n",
       "      <td>0.504971</td>\n",
       "      <td>0.600277</td>\n",
       "    </tr>\n",
       "    <tr>\n",
       "      <td>budget</td>\n",
       "      <td>-0.166067</td>\n",
       "      <td>0.513553</td>\n",
       "      <td>1.000000</td>\n",
       "      <td>0.747273</td>\n",
       "      <td>0.269480</td>\n",
       "      <td>0.649130</td>\n",
       "      <td>0.118651</td>\n",
       "      <td>0.068611</td>\n",
       "      <td>0.988433</td>\n",
       "      <td>0.630719</td>\n",
       "    </tr>\n",
       "    <tr>\n",
       "      <td>revenue</td>\n",
       "      <td>-0.125101</td>\n",
       "      <td>0.641346</td>\n",
       "      <td>0.747273</td>\n",
       "      <td>1.000000</td>\n",
       "      <td>0.257756</td>\n",
       "      <td>0.804788</td>\n",
       "      <td>0.258208</td>\n",
       "      <td>-0.031835</td>\n",
       "      <td>0.752853</td>\n",
       "      <td>0.925494</td>\n",
       "    </tr>\n",
       "    <tr>\n",
       "      <td>runtime</td>\n",
       "      <td>-0.025016</td>\n",
       "      <td>0.220787</td>\n",
       "      <td>0.269480</td>\n",
       "      <td>0.257756</td>\n",
       "      <td>1.000000</td>\n",
       "      <td>0.280602</td>\n",
       "      <td>0.243699</td>\n",
       "      <td>-0.078525</td>\n",
       "      <td>0.282257</td>\n",
       "      <td>0.257378</td>\n",
       "    </tr>\n",
       "    <tr>\n",
       "      <td>vote_count</td>\n",
       "      <td>-0.069752</td>\n",
       "      <td>0.774226</td>\n",
       "      <td>0.649130</td>\n",
       "      <td>0.804788</td>\n",
       "      <td>0.280602</td>\n",
       "      <td>1.000000</td>\n",
       "      <td>0.379345</td>\n",
       "      <td>0.006364</td>\n",
       "      <td>0.642077</td>\n",
       "      <td>0.741541</td>\n",
       "    </tr>\n",
       "    <tr>\n",
       "      <td>vote_average</td>\n",
       "      <td>-0.066973</td>\n",
       "      <td>0.298066</td>\n",
       "      <td>0.118651</td>\n",
       "      <td>0.258208</td>\n",
       "      <td>0.243699</td>\n",
       "      <td>0.379345</td>\n",
       "      <td>1.000000</td>\n",
       "      <td>-0.152250</td>\n",
       "      <td>0.128789</td>\n",
       "      <td>0.274923</td>\n",
       "    </tr>\n",
       "    <tr>\n",
       "      <td>release_year</td>\n",
       "      <td>0.507116</td>\n",
       "      <td>0.002262</td>\n",
       "      <td>0.068611</td>\n",
       "      <td>-0.031835</td>\n",
       "      <td>-0.078525</td>\n",
       "      <td>0.006364</td>\n",
       "      <td>-0.152250</td>\n",
       "      <td>1.000000</td>\n",
       "      <td>-0.027940</td>\n",
       "      <td>-0.237684</td>\n",
       "    </tr>\n",
       "    <tr>\n",
       "      <td>budget_adj</td>\n",
       "      <td>-0.208151</td>\n",
       "      <td>0.504971</td>\n",
       "      <td>0.988433</td>\n",
       "      <td>0.752853</td>\n",
       "      <td>0.282257</td>\n",
       "      <td>0.642077</td>\n",
       "      <td>0.128789</td>\n",
       "      <td>-0.027940</td>\n",
       "      <td>1.000000</td>\n",
       "      <td>0.669152</td>\n",
       "    </tr>\n",
       "    <tr>\n",
       "      <td>revenue_adj</td>\n",
       "      <td>-0.165386</td>\n",
       "      <td>0.600277</td>\n",
       "      <td>0.630719</td>\n",
       "      <td>0.925494</td>\n",
       "      <td>0.257378</td>\n",
       "      <td>0.741541</td>\n",
       "      <td>0.274923</td>\n",
       "      <td>-0.237684</td>\n",
       "      <td>0.669152</td>\n",
       "      <td>1.000000</td>\n",
       "    </tr>\n",
       "  </tbody>\n",
       "</table>\n",
       "</div>"
      ],
      "text/plain": [
       "                    id  popularity    budget   revenue   runtime  vote_count  \\\n",
       "id            1.000000    0.022330 -0.166067 -0.125101 -0.025016   -0.069752   \n",
       "popularity    0.022330    1.000000  0.513553  0.641346  0.220787    0.774226   \n",
       "budget       -0.166067    0.513553  1.000000  0.747273  0.269480    0.649130   \n",
       "revenue      -0.125101    0.641346  0.747273  1.000000  0.257756    0.804788   \n",
       "runtime      -0.025016    0.220787  0.269480  0.257756  1.000000    0.280602   \n",
       "vote_count   -0.069752    0.774226  0.649130  0.804788  0.280602    1.000000   \n",
       "vote_average -0.066973    0.298066  0.118651  0.258208  0.243699    0.379345   \n",
       "release_year  0.507116    0.002262  0.068611 -0.031835 -0.078525    0.006364   \n",
       "budget_adj   -0.208151    0.504971  0.988433  0.752853  0.282257    0.642077   \n",
       "revenue_adj  -0.165386    0.600277  0.630719  0.925494  0.257378    0.741541   \n",
       "\n",
       "              vote_average  release_year  budget_adj  revenue_adj  \n",
       "id               -0.066973      0.507116   -0.208151    -0.165386  \n",
       "popularity        0.298066      0.002262    0.504971     0.600277  \n",
       "budget            0.118651      0.068611    0.988433     0.630719  \n",
       "revenue           0.258208     -0.031835    0.752853     0.925494  \n",
       "runtime           0.243699     -0.078525    0.282257     0.257378  \n",
       "vote_count        0.379345      0.006364    0.642077     0.741541  \n",
       "vote_average      1.000000     -0.152250    0.128789     0.274923  \n",
       "release_year     -0.152250      1.000000   -0.027940    -0.237684  \n",
       "budget_adj        0.128789     -0.027940    1.000000     0.669152  \n",
       "revenue_adj       0.274923     -0.237684    0.669152     1.000000  "
      ]
     },
     "execution_count": 123,
     "metadata": {},
     "output_type": "execute_result"
    },
    {
     "data": {
      "image/png": "[encoded data removed]",
      "text/plain": [
       "<Figure size 1440x720 with 2 Axes>"
      ]
     },
     "metadata": {
      "needs_background": "light"
     },
     "output_type": "display_data"
    }
   ],
   "source": [
    "# Finding the relations between the variables.\n",
    "plt.figure(figsize=(20,10))\n",
    "c= df.corr()\n",
    "sns.heatmap(c,annot=True)\n",
    "c"
   ]
  },
  {
   "cell_type": "markdown",
   "metadata": {},
   "source": [
    "## Detecting Outliers"
   ]
  },
  {
   "cell_type": "code",
   "execution_count": 124,
   "metadata": {},
   "outputs": [
    {
     "data": {
      "text/plain": [
       "<matplotlib.axes._subplots.AxesSubplot at 0x298d1851b88>"
      ]
     },
     "execution_count": 124,
     "metadata": {},
     "output_type": "execute_result"
    },
    {
     "data": {
      "image/png": "[encoded data removed]",
      "text/plain": [
       "<Figure size 432x288 with 1 Axes>"
      ]
     },
     "metadata": {
      "needs_background": "light"
     },
     "output_type": "display_data"
    }
   ],
   "source": [
    "#Method -1 --BOXPLOT--\n",
    "sns.boxplot(x=df['budget'])"
   ]
  },
  {
   "cell_type": "code",
   "execution_count": 125,
   "metadata": {},
   "outputs": [
    {
     "data": {
      "text/plain": [
       "<matplotlib.axes._subplots.AxesSubplot at 0x298d1d1be88>"
      ]
     },
     "execution_count": 125,
     "metadata": {},
     "output_type": "execute_result"
    },
    {
     "data": {
      "image/png": "[encoded data removed]",
      "text/plain": [
       "<Figure size 432x288 with 1 Axes>"
      ]
     },
     "metadata": {
      "needs_background": "light"
     },
     "output_type": "display_data"
    }
   ],
   "source": [
    "sns.boxplot(x=df['vote_average'])"
   ]
  },
  {
   "cell_type": "code",
   "execution_count": 126,
   "metadata": {},
   "outputs": [
    {
     "data": {
      "text/plain": [
       "<matplotlib.axes._subplots.AxesSubplot at 0x298d44c0a88>"
      ]
     },
     "execution_count": 126,
     "metadata": {},
     "output_type": "execute_result"
    },
    {
     "data": {
      "image/png": "[encoded data removed]",
      "text/plain": [
       "<Figure size 1152x576 with 1 Axes>"
      ]
     },
     "metadata": {
      "needs_background": "light"
     },
     "output_type": "display_data"
    }
   ],
   "source": [
    "# Method -2 --SCATTER PLOT--\n",
    "plt.figure(figsize=(16,8))\n",
    "plt.title('Plotting revenue and budget')\n",
    "sns.scatterplot(x='budget', y='revenue', data=df)"
   ]
  },
  {
   "cell_type": "markdown",
   "metadata": {},
   "source": [
    "# Questions"
   ]
  },
  {
   "cell_type": "markdown",
   "metadata": {},
   "source": [
    "## First question"
   ]
  },
  {
   "cell_type": "code",
   "execution_count": 127,
   "metadata": {},
   "outputs": [
    {
     "data": {
      "text/plain": [
       "('Justice League: Crisis on Two Earths',\n",
       " \"Pirates of the Caribbean: At World's End\")"
      ]
     },
     "execution_count": 127,
     "metadata": {},
     "output_type": "execute_result"
    }
   ],
   "source": [
    "# 1) Which are the movies with the third lowest and third highest budget?\n",
    "\n",
    "third_lowest=df.sort_values(['budget']).iloc[2]['original_title']\n",
    "third_highest=df.sort_values(['budget']).iloc[-3]['original_title']\n",
    "third_lowest,third_highest"
   ]
  },
  {
   "cell_type": "markdown",
   "metadata": {},
   "source": [
    "## Second Question"
   ]
  },
  {
   "cell_type": "code",
   "execution_count": 128,
   "metadata": {},
   "outputs": [],
   "source": [
    "# 2) What is the average number of words in movie titles between the year 2000-2005?\n",
    "\n",
    "lst=df[(df['release_year']>=2000) & (df['release_year']<=2005)].original_title.tolist()"
   ]
  },
  {
   "cell_type": "code",
   "execution_count": 129,
   "metadata": {},
   "outputs": [
    {
     "data": {
      "text/plain": [
       "['The Lord of the Rings: The Fellowship of the Ring',\n",
       " \"Harry Potter and the Philosopher's Stone\",\n",
       " 'Monsters, Inc.',\n",
       " 'Shrek',\n",
       " \"Ocean's Eleven\",\n",
       " 'Atlantis: The Lost Empire',\n",
       " 'A Beautiful Mind',\n",
       " 'Cats & Dogs',\n",
       " 'AntiTrust',\n",
       " 'K-PAX',\n",
       " 'Angel Eyes',\n",
       " 'Band of Brothers',\n",
       " 'Exit Wounds',\n",
       " 'How High',\n",
       " 'Ghosts of Mars',\n",
       " 'Osmosis Jones',\n",
       " 'Human Nature',\n",
       " 'Knockaround Guys',\n",
       " 'Wet Hot American Summer',\n",
       " 'The Lord of the Rings: The Two Towers',\n",
       " 'Ice Age',\n",
       " 'The Bourne Identity',\n",
       " 'Resident Evil',\n",
       " 'Spider-Man',\n",
       " 'Star Wars: Episode II - Attack of the Clones',\n",
       " 'Men in Black II',\n",
       " 'The Pianist',\n",
       " 'Blade II',\n",
       " 'Gangs of New York',\n",
       " 'Panic Room',\n",
       " '8 Mile',\n",
       " 'Bend It Like Beckham',\n",
       " 'A Walk to Remember',\n",
       " 'About a Boy',\n",
       " 'The Hunchback of Notre Dame II',\n",
       " 'Collateral Damage',\n",
       " 'Austin Powers in Goldmember',\n",
       " 'The Scorpion King',\n",
       " 'Bowling for Columbine',\n",
       " 'The Sum of All Fears',\n",
       " 'Adaptation.',\n",
       " 'The Time Machine',\n",
       " 'The Sweetest Thing',\n",
       " 'Darkness',\n",
       " 'Showtime',\n",
       " 'The New Guy',\n",
       " '24 Hour Party People',\n",
       " 'Heaven',\n",
       " 'Spider',\n",
       " 'Deuces Wild',\n",
       " 'The Lord of the Rings: The Return of the King',\n",
       " 'Underworld',\n",
       " 'Pirates of the Caribbean: The Curse of the Black Pearl',\n",
       " 'Kill Bill: Vol. 1',\n",
       " 'Finding Nemo',\n",
       " 'Bruce Almighty',\n",
       " 'Love Actually',\n",
       " 'Daredevil',\n",
       " 'The Italian Job',\n",
       " 'Bad Santa',\n",
       " 'A Man Apart',\n",
       " 'The School of Rock',\n",
       " 'Master and Commander: The Far Side of the World',\n",
       " 'The Animatrix',\n",
       " 'Old School',\n",
       " 'S.W.A.T.',\n",
       " 'Gothika',\n",
       " '21 Grams',\n",
       " 'The Rundown',\n",
       " 'Seabiscuit',\n",
       " 'Dreamcatcher',\n",
       " 'Le Divorce',\n",
       " 'Monster',\n",
       " 'Gigli',\n",
       " 'House of the Dead',\n",
       " 'House of 1000 Corpses',\n",
       " 'Young Adam',\n",
       " 'Pieces of April',\n",
       " 'Swimming Pool',\n",
       " 'Cypher',\n",
       " 'The In-Laws',\n",
       " 'Inspector Gadget 2',\n",
       " 'Calendar Girls',\n",
       " 'Dead End',\n",
       " 'Mambo Italiano',\n",
       " 'The Big Empty',\n",
       " 'Ghosts of the Abyss',\n",
       " 'The Corporation',\n",
       " 'Alex & Emma',\n",
       " 'Tupac: Resurrection',\n",
       " 'Harry Potter and the Goblet of Fire',\n",
       " 'Batman Begins',\n",
       " 'V for Vendetta',\n",
       " 'Sin City',\n",
       " 'Star Wars: Episode III - Revenge of the Sith',\n",
       " 'The Island',\n",
       " 'Constantine',\n",
       " 'The Pacifier',\n",
       " 'Memoirs of a Geisha',\n",
       " 'The 40 Year Old Virgin',\n",
       " 'Chicken Little',\n",
       " 'Kingdom of Heaven',\n",
       " 'Pride & Prejudice',\n",
       " 'Brokeback Mountain',\n",
       " 'Hooligans',\n",
       " 'The Legend of Zorro',\n",
       " 'Elektra',\n",
       " 'Corpse Bride',\n",
       " 'The Curse of the Were-Rabbit',\n",
       " 'Rumor Has It...',\n",
       " 'Four Brothers',\n",
       " 'Hostel',\n",
       " 'Cinderella Man',\n",
       " 'Hoodwinked!',\n",
       " 'American Pie Presents: Band Camp',\n",
       " 'Proof',\n",
       " 'The Interpreter',\n",
       " 'An Unfinished Life',\n",
       " 'The Dukes of Hazzard',\n",
       " 'Syriana',\n",
       " 'Derailed',\n",
       " 'Good Night, and Good Luck.',\n",
       " 'Fun with Dick and Jane',\n",
       " 'Unleashed',\n",
       " 'Two for the Money',\n",
       " 'Harsh Times',\n",
       " 'The Perfect Man',\n",
       " 'Broken Flowers',\n",
       " 'Revolver',\n",
       " 'A Sound of Thunder',\n",
       " 'The Fog',\n",
       " 'BloodRayne',\n",
       " 'Capote',\n",
       " 'Imagine Me & You',\n",
       " 'Hard Candy',\n",
       " 'Brick',\n",
       " 'Sky High',\n",
       " 'FrÃ¡giles',\n",
       " 'Beowulf & Grendel',\n",
       " 'Everything is Illuminated',\n",
       " 'Transamerica',\n",
       " \"The Devil's Rejects\",\n",
       " 'Boogeyman',\n",
       " 'Tideland',\n",
       " 'Rent',\n",
       " 'All About Anna',\n",
       " 'Paradise Now',\n",
       " 'Man-Thing',\n",
       " 'Tamara',\n",
       " 'North Country',\n",
       " 'Down in the Valley',\n",
       " 'Mouth to Mouth',\n",
       " 'Edmond',\n",
       " 'The Business',\n",
       " 'Archangel',\n",
       " 'Happy Endings',\n",
       " 'Dirty Love',\n",
       " 'The Upside of Anger',\n",
       " 'Tsotsi',\n",
       " 'Duma',\n",
       " 'George Carlin: Life Is Worth Losing',\n",
       " 'Wassup Rockers',\n",
       " 'Eternal Sunshine of the Spotless Mind',\n",
       " 'The Notebook',\n",
       " 'The Incredibles',\n",
       " 'The Bourne Supremacy',\n",
       " 'I, Robot',\n",
       " 'Mean Girls',\n",
       " 'Van Helsing',\n",
       " 'Hellboy',\n",
       " 'The Polar Express',\n",
       " 'Shrek 2',\n",
       " \"Ocean's Twelve\",\n",
       " 'Meet the Fockers',\n",
       " 'The Day After Tomorrow',\n",
       " 'Blade: Trinity',\n",
       " 'The Terminal',\n",
       " 'Million Dollar Baby',\n",
       " 'Sky Captain and the World of Tomorrow',\n",
       " 'Crash',\n",
       " 'A Cinderella Story',\n",
       " 'AVP: Alien vs. Predator',\n",
       " 'Banlieue 13',\n",
       " 'Spider-Man 2',\n",
       " 'Along Came Polly',\n",
       " 'The Punisher',\n",
       " 'Dawn of the Dead',\n",
       " 'The Chronicles of Riddick',\n",
       " 'After the Sunset',\n",
       " 'Before Sunset',\n",
       " 'Cellular',\n",
       " 'Shall We Dance?',\n",
       " 'Primer',\n",
       " 'Home on the Range',\n",
       " 'Hotel Rwanda',\n",
       " 'Team America: World Police',\n",
       " 'Sideways',\n",
       " 'The Passion of the Christ',\n",
       " 'Ray',\n",
       " \"Salem's Lot\",\n",
       " 'Friday Night Lights',\n",
       " 'Raise Your Voice',\n",
       " 'Mindhunters',\n",
       " 'Agent Cody Banks 2: Destination London',\n",
       " 'A Dirty Shame',\n",
       " 'YÅ«giÅ Dyueru MonsutÄzu Hikari no Piramiddo',\n",
       " 'LaLehet Al HaMayim',\n",
       " 'Superbabies: Baby Geniuses 2',\n",
       " 'Mean Creek',\n",
       " 'Bring It On Again',\n",
       " 'Memento',\n",
       " 'How the Grinch Stole Christmas',\n",
       " 'Mission: Impossible II',\n",
       " 'U-571',\n",
       " 'Erin Brockovich',\n",
       " 'Pitch Black',\n",
       " 'Remember the Titans',\n",
       " 'Space Cowboys',\n",
       " 'Bring It On',\n",
       " 'The Flintstones in Viva Rock Vegas',\n",
       " 'The Yards',\n",
       " 'Vertical Limit',\n",
       " \"Frank Herbert's Dune\",\n",
       " 'The Kid',\n",
       " 'Ready to Rumble',\n",
       " 'Python',\n",
       " 'My Dog Skip',\n",
       " 'All the Pretty Horses',\n",
       " 'State and Main',\n",
       " 'The In Crowd']"
      ]
     },
     "execution_count": 129,
     "metadata": {},
     "output_type": "execute_result"
    }
   ],
   "source": [
    "#The list of movies between 2000 and 2005\n",
    "lst"
   ]
  },
  {
   "cell_type": "code",
   "execution_count": 130,
   "metadata": {},
   "outputs": [
    {
     "name": "stdout",
     "output_type": "stream",
     "text": [
      "Mean no.of words is : 2.782608695652174\n"
     ]
    }
   ],
   "source": [
    "import re\n",
    "sums=0\n",
    "count=0\n",
    "for string in lst :\n",
    "    res = len(re.findall(r'\\w+', string))\n",
    "    sums+=res\n",
    "    count+=1\n",
    "   \n",
    "print(\"Mean no.of words is :\",sums/count)    \n",
    "    "
   ]
  },
  {
   "cell_type": "markdown",
   "metadata": {},
   "source": [
    "## Third question"
   ]
  },
  {
   "cell_type": "code",
   "execution_count": 131,
   "metadata": {},
   "outputs": [],
   "source": [
    "# 3) What is the most common Genre for Vin Diesel & Emma Watson movies?\n",
    "\n",
    "sp1=df[df.cast.str.contains('Vin Diesel')].genres.tolist()\n",
    "sp2=df[df.cast.str.contains('Emma Watson')].genres.tolist()"
   ]
  },
  {
   "cell_type": "code",
   "execution_count": 132,
   "metadata": {},
   "outputs": [
    {
     "name": "stdout",
     "output_type": "stream",
     "text": [
      "\n",
      "Here is the required list\n",
      "\n",
      " ['Action', 'Crime', 'Thriller', 'Fantasy', 'Action', 'Adventure', 'Action', 'Science Fiction', 'Adventure', 'Action', 'Crime', 'Drama', 'Thriller', 'Crime', 'Thriller', 'Action', 'Adventure', 'Science Fiction', 'Thriller', 'Action', 'Thriller', 'Crime', 'Action', 'Drama', 'Science Fiction', 'Action', 'Thriller', 'Action', 'Thriller', 'Crime', 'Action', 'Comedy', 'Drama', 'Family', 'Thriller', 'Adventure', 'Action', 'Thriller', 'Science Fiction', 'Thriller', 'Science Fiction', 'Action']\n",
      "\n",
      "The most common genre for Vin Diesel movies is Action\n",
      "\n",
      "Here is the required list\n",
      "\n",
      " ['Drama', 'Adventure', 'Adventure', 'Fantasy', 'Family', 'Adventure', 'Fantasy', 'Family', 'Adventure', 'Fantasy', 'Family', 'Animation', 'Comedy', 'Family', 'Adventure', 'Family', 'Fantasy', 'Drama', 'Romance', 'Adventure', 'Fantasy', 'Family', 'Adventure', 'Fantasy', 'Family', 'Mystery', 'Drama', 'Family']\n",
      "\n",
      "The most common genre for Emma Watson movies is Family\n"
     ]
    }
   ],
   "source": [
    "import statistics \n",
    "from statistics import mode \n",
    "def most_common(sp) :\n",
    "    lst2=[]\n",
    "    for m in sp:\n",
    "        line=m.split(\"|\")\n",
    "        for i in line:\n",
    "            lst2.append(i)\n",
    "    print(\"\\nHere is the required list\\n\\n\",lst2)\n",
    "    print(\"\")\n",
    "    return(mode(lst2))\n",
    "    \n",
    "print(\"The most common genre for Vin Diesel movies is\",most_common(sp1))\n",
    "print(\"The most common genre for Emma Watson movies is\",most_common(sp2))"
   ]
  },
  {
   "cell_type": "markdown",
   "metadata": {},
   "source": [
    "## Fourth question"
   ]
  },
  {
   "cell_type": "code",
   "execution_count": 133,
   "metadata": {},
   "outputs": [
    {
     "data": {
      "text/plain": [
       "('Altitude', 'Avatar')"
      ]
     },
     "execution_count": 133,
     "metadata": {},
     "output_type": "execute_result"
    }
   ],
   "source": [
    "# 4) Which are the movies with most and least earned revenue?\n",
    "\n",
    "least=df.sort_values(['revenue']).iloc[0]['original_title']\n",
    "most=df.sort_values(['revenue']).iloc[-1]['original_title']\n",
    "least,most"
   ]
  },
  {
   "cell_type": "markdown",
   "metadata": {},
   "source": [
    "## Fifth question"
   ]
  },
  {
   "cell_type": "code",
   "execution_count": 134,
   "metadata": {},
   "outputs": [
    {
     "data": {
      "text/plain": [
       "109.96739130434783"
      ]
     },
     "execution_count": 134,
     "metadata": {},
     "output_type": "execute_result"
    }
   ],
   "source": [
    "#5) What is the average runtime of movies in the year 2006?\n",
    "\n",
    "df[df['release_year']==2006].runtime.mean()"
   ]
  },
  {
   "cell_type": "markdown",
   "metadata": {},
   "source": [
    "## Sixth question"
   ]
  },
  {
   "cell_type": "code",
   "execution_count": 135,
   "metadata": {},
   "outputs": [
    {
     "data": {
      "text/plain": [
       "2197              Darclight Films\n",
       "2141    DC Comics|Warner Premiere\n",
       "2145              Films In Motion\n",
       "2150                   fiftyfilms\n",
       "2159            Points North Film\n",
       "Name: production_companies, dtype: object"
      ]
     },
     "execution_count": 135,
     "metadata": {},
     "output_type": "execute_result"
    }
   ],
   "source": [
    "# 6) Name any 3 production companies which have invested money in worse revenue movies?\n",
    "\n",
    "df.sort_values('revenue').production_companies.head()"
   ]
  },
  {
   "cell_type": "code",
   "execution_count": null,
   "metadata": {},
   "outputs": [],
   "source": []
  },
  {
   "cell_type": "code",
   "execution_count": null,
   "metadata": {},
   "outputs": [],
   "source": []
  }
 ],
 "metadata": {
  "kernelspec": {
   "display_name": "Python 3",
   "language": "python",
   "name": "python3"
  },
  "language_info": {
   "codemirror_mode": {
    "name": "ipython",
    "version": 3
   },
   "file_extension": ".py",
   "mimetype": "text/x-python",
   "name": "python",
   "nbconvert_exporter": "python",
   "pygments_lexer": "ipython3",
   "version": "3.7.4"
  }
 },
 "nbformat": 4,
 "nbformat_minor": 2
}
